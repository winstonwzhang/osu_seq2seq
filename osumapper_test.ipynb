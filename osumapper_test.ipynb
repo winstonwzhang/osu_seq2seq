{
 "cells": [
  {
   "cell_type": "code",
   "execution_count": null,
   "metadata": {},
   "outputs": [],
   "source": []
  },
  {
   "cell_type": "code",
   "execution_count": null,
   "metadata": {},
   "outputs": [],
   "source": []
  },
  {
   "cell_type": "code",
   "execution_count": null,
   "metadata": {
    "scrolled": false
   },
   "outputs": [],
   "source": []
  },
  {
   "cell_type": "code",
   "execution_count": null,
   "metadata": {},
   "outputs": [],
   "source": []
  },
  {
   "cell_type": "code",
   "execution_count": null,
   "metadata": {
    "scrolled": false
   },
   "outputs": [],
   "source": []
  },
  {
   "cell_type": "code",
   "execution_count": 1,
   "metadata": {},
   "outputs": [],
   "source": [
    "import numpy as np\n",
    "import math"
   ]
  },
  {
   "cell_type": "code",
   "execution_count": 3,
   "metadata": {},
   "outputs": [],
   "source": [
    "r22 = np.sqrt(2)/2\n",
    "test = dict()\n",
    "test['N'] = np.array([0,1])\n",
    "test['NE'] = np.array([r22,r22])\n",
    "test['E'] = np.array([1,0])\n",
    "test['SE'] = np.array([r22,-r22])\n",
    "test['S'] = np.array([0,-1])\n",
    "test['SW'] = np.array([-r22,-r22])\n",
    "test['W'] = np.array([-1,0])\n",
    "test['NW'] = np.array([-r22, r22])"
   ]
  },
  {
   "cell_type": "code",
   "execution_count": 30,
   "metadata": {},
   "outputs": [
    {
     "name": "stdout",
     "output_type": "stream",
     "text": [
      "N 0.0 0\n",
      "NE 0.7853981633974483 -0.7071067811865476\n",
      "E 1.5707963267948966 -1\n",
      "SE 2.356194490192345 -0.7071067811865476\n",
      "S 3.141592653589793 0\n",
      "SW 2.356194490192345 0.7071067811865476\n",
      "W 1.5707963267948966 1\n",
      "NW 0.7853981633974483 0.7071067811865476\n"
     ]
    }
   ],
   "source": [
    "N = test['N']\n",
    "for key, val in test.items():\n",
    "    print(key, cos(val[0]), sin(val[1])"
   ]
  },
  {
   "cell_type": "code",
   "execution_count": 45,
   "metadata": {},
   "outputs": [],
   "source": [
    "test = dict()\n",
    "test['N'] = 0\n",
    "test['NE'] = -np.pi / 4\n",
    "test['E'] = -np.pi / 2\n",
    "test['SE'] = -np.pi*3 / 4\n",
    "test['S'] = np.pi\n",
    "test['SW'] = 3*np.pi / 4\n",
    "test['W'] = np.pi / 2\n",
    "test['NW'] = np.pi / 4"
   ]
  },
  {
   "cell_type": "code",
   "execution_count": 46,
   "metadata": {},
   "outputs": [
    {
     "name": "stdout",
     "output_type": "stream",
     "text": [
      "N 1.0 0.0\n",
      "NE 0.7071067811865476 -0.7071067811865476\n",
      "E 6.123233995736766e-17 -1.0\n",
      "SE -0.7071067811865475 -0.7071067811865476\n",
      "S -1.0 1.2246467991473532e-16\n",
      "SW -0.7071067811865475 0.7071067811865476\n",
      "W 6.123233995736766e-17 1.0\n",
      "NW 0.7071067811865476 0.7071067811865476\n"
     ]
    }
   ],
   "source": [
    "for key, val in test.items():\n",
    "    print(key, np.cos(val), np.sin(val))"
   ]
  },
  {
   "cell_type": "code",
   "execution_count": 51,
   "metadata": {},
   "outputs": [
    {
     "data": {
      "text/plain": [
       "['N', 'NE', 'E', 'SE', 'S', 'SW', 'W', 'NW']"
      ]
     },
     "execution_count": 51,
     "metadata": {},
     "output_type": "execute_result"
    }
   ],
   "source": [
    "list(test.keys())"
   ]
  },
  {
   "cell_type": "code",
   "execution_count": 53,
   "metadata": {},
   "outputs": [
    {
     "data": {
      "text/plain": [
       "False"
      ]
     },
     "execution_count": 53,
     "metadata": {},
     "output_type": "execute_result"
    }
   ],
   "source": [
    "x = 4\n",
    "5 < 4 < 5"
   ]
  },
  {
   "cell_type": "code",
   "execution_count": null,
   "metadata": {},
   "outputs": [],
   "source": []
  }
 ],
 "metadata": {
  "kernelspec": {
   "display_name": "Python 3",
   "language": "python",
   "name": "python3"
  },
  "language_info": {
   "codemirror_mode": {
    "name": "ipython",
    "version": 3
   },
   "file_extension": ".py",
   "mimetype": "text/x-python",
   "name": "python",
   "nbconvert_exporter": "python",
   "pygments_lexer": "ipython3",
   "version": "3.7.9"
  }
 },
 "nbformat": 4,
 "nbformat_minor": 4
}
